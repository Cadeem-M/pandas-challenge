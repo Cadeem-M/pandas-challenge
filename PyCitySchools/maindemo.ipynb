{
 "cells": [
  {
   "cell_type": "code",
   "execution_count": 18,
   "metadata": {},
   "outputs": [
    {
     "data": {
      "text/html": [
       "<div>\n",
       "<style scoped>\n",
       "    .dataframe tbody tr th:only-of-type {\n",
       "        vertical-align: middle;\n",
       "    }\n",
       "\n",
       "    .dataframe tbody tr th {\n",
       "        vertical-align: top;\n",
       "    }\n",
       "\n",
       "    .dataframe thead th {\n",
       "        text-align: right;\n",
       "    }\n",
       "</style>\n",
       "<table border=\"1\" class=\"dataframe\">\n",
       "  <thead>\n",
       "    <tr style=\"text-align: right;\">\n",
       "      <th></th>\n",
       "      <th>Student ID</th>\n",
       "      <th>student_name</th>\n",
       "      <th>gender</th>\n",
       "      <th>grade</th>\n",
       "      <th>school_name</th>\n",
       "      <th>reading_score</th>\n",
       "      <th>math_score</th>\n",
       "      <th>School ID</th>\n",
       "      <th>type</th>\n",
       "      <th>size</th>\n",
       "      <th>budget</th>\n",
       "    </tr>\n",
       "  </thead>\n",
       "  <tbody>\n",
       "    <tr>\n",
       "      <th>0</th>\n",
       "      <td>0</td>\n",
       "      <td>Paul Bradley</td>\n",
       "      <td>M</td>\n",
       "      <td>9th</td>\n",
       "      <td>Huang High School</td>\n",
       "      <td>66</td>\n",
       "      <td>79</td>\n",
       "      <td>0</td>\n",
       "      <td>District</td>\n",
       "      <td>2917</td>\n",
       "      <td>1910635</td>\n",
       "    </tr>\n",
       "    <tr>\n",
       "      <th>1</th>\n",
       "      <td>1</td>\n",
       "      <td>Victor Smith</td>\n",
       "      <td>M</td>\n",
       "      <td>12th</td>\n",
       "      <td>Huang High School</td>\n",
       "      <td>94</td>\n",
       "      <td>61</td>\n",
       "      <td>0</td>\n",
       "      <td>District</td>\n",
       "      <td>2917</td>\n",
       "      <td>1910635</td>\n",
       "    </tr>\n",
       "    <tr>\n",
       "      <th>2</th>\n",
       "      <td>2</td>\n",
       "      <td>Kevin Rodriguez</td>\n",
       "      <td>M</td>\n",
       "      <td>12th</td>\n",
       "      <td>Huang High School</td>\n",
       "      <td>90</td>\n",
       "      <td>60</td>\n",
       "      <td>0</td>\n",
       "      <td>District</td>\n",
       "      <td>2917</td>\n",
       "      <td>1910635</td>\n",
       "    </tr>\n",
       "    <tr>\n",
       "      <th>3</th>\n",
       "      <td>3</td>\n",
       "      <td>Dr. Richard Scott</td>\n",
       "      <td>M</td>\n",
       "      <td>12th</td>\n",
       "      <td>Huang High School</td>\n",
       "      <td>67</td>\n",
       "      <td>58</td>\n",
       "      <td>0</td>\n",
       "      <td>District</td>\n",
       "      <td>2917</td>\n",
       "      <td>1910635</td>\n",
       "    </tr>\n",
       "    <tr>\n",
       "      <th>4</th>\n",
       "      <td>4</td>\n",
       "      <td>Bonnie Ray</td>\n",
       "      <td>F</td>\n",
       "      <td>9th</td>\n",
       "      <td>Huang High School</td>\n",
       "      <td>97</td>\n",
       "      <td>84</td>\n",
       "      <td>0</td>\n",
       "      <td>District</td>\n",
       "      <td>2917</td>\n",
       "      <td>1910635</td>\n",
       "    </tr>\n",
       "  </tbody>\n",
       "</table>\n",
       "</div>"
      ],
      "text/plain": [
       "   Student ID       student_name gender grade        school_name  \\\n",
       "0           0       Paul Bradley      M   9th  Huang High School   \n",
       "1           1       Victor Smith      M  12th  Huang High School   \n",
       "2           2    Kevin Rodriguez      M  12th  Huang High School   \n",
       "3           3  Dr. Richard Scott      M  12th  Huang High School   \n",
       "4           4         Bonnie Ray      F   9th  Huang High School   \n",
       "\n",
       "   reading_score  math_score  School ID      type  size   budget  \n",
       "0             66          79          0  District  2917  1910635  \n",
       "1             94          61          0  District  2917  1910635  \n",
       "2             90          60          0  District  2917  1910635  \n",
       "3             67          58          0  District  2917  1910635  \n",
       "4             97          84          0  District  2917  1910635  "
      ]
     },
     "execution_count": 18,
     "metadata": {},
     "output_type": "execute_result"
    }
   ],
   "source": [
    "# Dependencies and Setup\n",
    "import pandas as pd\n",
    "from pathlib import Path\n",
    "\n",
    "# File to Load (Remember to Change These)\n",
    "school_data_to_load = Path(\"Resources/schools_complete.csv\")\n",
    "student_data_to_load = Path(\"Resources/students_complete.csv\")\n",
    "\n",
    "# Read School and Student Data File and store into Pandas DataFrames\n",
    "school_data = pd.read_csv(school_data_to_load)\n",
    "student_data = pd.read_csv(student_data_to_load)\n",
    "\n",
    "# Combine the data into a single dataset.\n",
    "school_data_complete = pd.merge(student_data, school_data, how=\"left\", on=[\"school_name\", \"school_name\" ])\n",
    "school_data_complete.head()"
   ]
  },
  {
   "cell_type": "code",
   "execution_count": 100,
   "metadata": {},
   "outputs": [
    {
     "data": {
      "text/plain": [
       "15"
      ]
     },
     "execution_count": 100,
     "metadata": {},
     "output_type": "execute_result"
    }
   ],
   "source": [
    "school_count = len(school_data_complete[\"school_name\"].unique())\n",
    "school_count"
   ]
  },
  {
   "cell_type": "code",
   "execution_count": 88,
   "metadata": {},
   "outputs": [
    {
     "data": {
      "text/plain": [
       "39170"
      ]
     },
     "execution_count": 88,
     "metadata": {},
     "output_type": "execute_result"
    }
   ],
   "source": [
    "# Calculate the total number of students\n",
    "student_count = len(school_data_complete[\"student_name\"])\n",
    "student_count"
   ]
  },
  {
   "cell_type": "code",
   "execution_count": 52,
   "metadata": {},
   "outputs": [
    {
     "data": {
      "text/plain": [
       "78.98537145774827"
      ]
     },
     "execution_count": 52,
     "metadata": {},
     "output_type": "execute_result"
    }
   ],
   "source": [
    "# Calculate the average (mean) math score\n",
    "average_math_score = school_data_complete[\"math_score\"].mean()\n",
    "average_math_score"
   ]
  },
  {
   "cell_type": "code",
   "execution_count": 53,
   "metadata": {},
   "outputs": [
    {
     "data": {
      "text/plain": [
       "24649428"
      ]
     },
     "execution_count": 53,
     "metadata": {},
     "output_type": "execute_result"
    }
   ],
   "source": [
    "# Calculate the total budget\n",
    "total_budget = school_data['budget'].sum()\n",
    "total_budget"
   ]
  },
  {
   "cell_type": "code",
   "execution_count": 54,
   "metadata": {},
   "outputs": [
    {
     "data": {
      "text/plain": [
       "81.87784018381414"
      ]
     },
     "execution_count": 54,
     "metadata": {},
     "output_type": "execute_result"
    }
   ],
   "source": [
    "# Calculate the average (mean) reading score\n",
    "average_reading_score = school_data_complete[\"reading_score\"].mean()\n",
    "average_reading_score\n"
   ]
  },
  {
   "cell_type": "code",
   "execution_count": 102,
   "metadata": {},
   "outputs": [
    {
     "data": {
      "text/plain": [
       "74.9808526933878"
      ]
     },
     "execution_count": 102,
     "metadata": {},
     "output_type": "execute_result"
    }
   ],
   "source": [
    "# Use the following to calculate the percentage of students who passed math (math scores greather than or equal to 70)\n",
    "passing_math_count = school_data_complete[school_data_complete[\"math_score\"] >= 70].count()[\"student_name\"]\n",
    "passing_math_percentage = passing_math_count / float(student_count) * 100\n",
    "passing_math_percentage\n"
   ]
  },
  {
   "cell_type": "code",
   "execution_count": 104,
   "metadata": {},
   "outputs": [
    {
     "data": {
      "text/plain": [
       "85.80546336482001"
      ]
     },
     "execution_count": 104,
     "metadata": {},
     "output_type": "execute_result"
    }
   ],
   "source": [
    "# Calculate the percentage of students who passed reading (hint: look at how the math percentage was calculated)\n",
    "passing_reading_count = school_data_complete[school_data_complete[\"reading_score\"] >= 70].count()[\"student_name\"]\n",
    "passing_reading_percentage = passing_reading_count  / float(student_count) * 100\n",
    "passing_reading_percentage"
   ]
  },
  {
   "cell_type": "code",
   "execution_count": 105,
   "metadata": {},
   "outputs": [
    {
     "data": {
      "text/plain": [
       "65.17232575950983"
      ]
     },
     "execution_count": 105,
     "metadata": {},
     "output_type": "execute_result"
    }
   ],
   "source": [
    "# Use the following to calculate the percentage of students that passed math and reading\n",
    "passing_math_reading_count = school_data_complete[\n",
    "    (school_data_complete[\"math_score\"] >= 70) & (school_data_complete[\"reading_score\"] >= 70)\n",
    "].count()[\"student_name\"]\n",
    "overall_passing_rate = passing_math_reading_count /  float(student_count) * 100\n",
    "overall_passing_rate"
   ]
  },
  {
   "cell_type": "code",
   "execution_count": 127,
   "metadata": {},
   "outputs": [
    {
     "data": {
      "text/html": [
       "<div>\n",
       "<style scoped>\n",
       "    .dataframe tbody tr th:only-of-type {\n",
       "        vertical-align: middle;\n",
       "    }\n",
       "\n",
       "    .dataframe tbody tr th {\n",
       "        vertical-align: top;\n",
       "    }\n",
       "\n",
       "    .dataframe thead th {\n",
       "        text-align: right;\n",
       "    }\n",
       "</style>\n",
       "<table border=\"1\" class=\"dataframe\">\n",
       "  <thead>\n",
       "    <tr style=\"text-align: right;\">\n",
       "      <th></th>\n",
       "      <th>Total Schools</th>\n",
       "      <th>Total Students</th>\n",
       "      <th>Total Budget</th>\n",
       "      <th>Average Math Score</th>\n",
       "      <th>Average Reading Score</th>\n",
       "      <th>% Passing Math</th>\n",
       "      <th>% Passing Reading</th>\n",
       "      <th>% Overall Passing</th>\n",
       "    </tr>\n",
       "  </thead>\n",
       "  <tbody>\n",
       "    <tr>\n",
       "      <th>0</th>\n",
       "      <td>15</td>\n",
       "      <td>39,170</td>\n",
       "      <td>$24,649,428.00</td>\n",
       "      <td>78.985371</td>\n",
       "      <td>81.87784</td>\n",
       "      <td>74.980853</td>\n",
       "      <td>85.805463</td>\n",
       "      <td>65.172326</td>\n",
       "    </tr>\n",
       "  </tbody>\n",
       "</table>\n",
       "</div>"
      ],
      "text/plain": [
       "   Total Schools Total Students    Total Budget  Average Math Score  \\\n",
       "0             15         39,170  $24,649,428.00           78.985371   \n",
       "\n",
       "   Average Reading Score  % Passing Math  % Passing Reading  % Overall Passing  \n",
       "0               81.87784       74.980853          85.805463          65.172326  "
      ]
     },
     "execution_count": 127,
     "metadata": {},
     "output_type": "execute_result"
    }
   ],
   "source": [
    "# Create a high-level snapshot of the district's key metrics in a DataFrame\n",
    "district_summary = pd.DataFrame({\"Total Schools\": [school_count], \"Total Students\": [student_count], \n",
    "                                 \"Total Budget\":[total_budget],\n",
    "                                 \"Average Math Score\":[average_math_score], \n",
    "                                 \"Average Reading Score\":[average_reading_score], \n",
    "                                 \"% Passing Math\":[passing_math_percentage],\n",
    "                                   \"% Passing Reading\":[passing_reading_percentage],\n",
    "                                 \"% Overall Passing\":[overall_passing_rate]})\n",
    "\n",
    "\n",
    "# Formatting\n",
    "district_summary[\"Total Students\"] = district_summary[\"Total Students\"].map(\"{:,}\".format)\n",
    "district_summary[\"Total Budget\"] = district_summary[\"Total Budget\"].map(\"${:,.2f}\".format)\n",
    "\n",
    "# Display the DataFrame\n",
    "district_summary"
   ]
  },
  {
   "cell_type": "code",
   "execution_count": 255,
   "metadata": {},
   "outputs": [
    {
     "data": {
      "text/plain": [
       "school_name\n",
       "Huang High School        District\n",
       "Figueroa High School     District\n",
       "Shelton High School       Charter\n",
       "Hernandez High School    District\n",
       "Griffin High School       Charter\n",
       "Wilson High School        Charter\n",
       "Cabrera High School       Charter\n",
       "Bailey High School       District\n",
       "Holden High School        Charter\n",
       "Pena High School          Charter\n",
       "Wright High School        Charter\n",
       "Rodriguez High School    District\n",
       "Johnson High School      District\n",
       "Ford High School         District\n",
       "Thomas High School        Charter\n",
       "Name: type, dtype: object"
      ]
     },
     "execution_count": 255,
     "metadata": {},
     "output_type": "execute_result"
    }
   ],
   "source": [
    "# Use the code provided to select the type per school from school_data\n",
    "school_types = school_data.set_index([\"school_name\"])[\"type\"]\n",
    "\n",
    "school_types"
   ]
  },
  {
   "cell_type": "code",
   "execution_count": 339,
   "metadata": {},
   "outputs": [
    {
     "data": {
      "text/plain": [
       "school_name\n",
       "Bailey High School       4976\n",
       "Johnson High School      4761\n",
       "Hernandez High School    4635\n",
       "Rodriguez High School    3999\n",
       "Figueroa High School     2949\n",
       "Huang High School        2917\n",
       "Ford High School         2739\n",
       "Wilson High School       2283\n",
       "Cabrera High School      1858\n",
       "Wright High School       1800\n",
       "Shelton High School      1761\n",
       "Thomas High School       1635\n",
       "Griffin High School      1468\n",
       "Pena High School          962\n",
       "Holden High School        427\n",
       "Name: count, dtype: int64"
      ]
     },
     "execution_count": 339,
     "metadata": {},
     "output_type": "execute_result"
    }
   ],
   "source": [
    "# Calculate the total student count per school from school_data\n",
    "per_school_counts = school_data_complete[\"school_name\"].value_counts()\n",
    "per_school_counts"
   ]
  },
  {
   "cell_type": "code",
   "execution_count": 364,
   "metadata": {},
   "outputs": [
    {
     "data": {
      "text/plain": [
       "school_name\n",
       "Bailey High School       628.0\n",
       "Cabrera High School      582.0\n",
       "Figueroa High School     639.0\n",
       "Ford High School         644.0\n",
       "Griffin High School      625.0\n",
       "Hernandez High School    652.0\n",
       "Holden High School       581.0\n",
       "Huang High School        655.0\n",
       "Johnson High School      650.0\n",
       "Pena High School         609.0\n",
       "Rodriguez High School    637.0\n",
       "Shelton High School      600.0\n",
       "Thomas High School       638.0\n",
       "Wilson High School       578.0\n",
       "Wright High School       583.0\n",
       "dtype: float64"
      ]
     },
     "execution_count": 364,
     "metadata": {},
     "output_type": "execute_result"
    }
   ],
   "source": [
    "# Calculate the total school budget and per capita spending per school from school_data\n",
    "per_school_budget = school_data.set_index([\"school_name\"])[\"budget\"]\n",
    "\n",
    "\n",
    "per_school_capita = per_school_budget / per_school_counts\n"
   ]
  },
  {
   "cell_type": "code",
   "execution_count": 368,
   "metadata": {},
   "outputs": [
    {
     "data": {
      "text/plain": [
       "school_name\n",
       "Bailey High School       81.033963\n",
       "Cabrera High School      83.975780\n",
       "Figueroa High School     81.158020\n",
       "Ford High School         80.746258\n",
       "Griffin High School      83.816757\n",
       "Hernandez High School    80.934412\n",
       "Holden High School       83.814988\n",
       "Huang High School        81.182722\n",
       "Johnson High School      80.966394\n",
       "Pena High School         84.044699\n",
       "Rodriguez High School    80.744686\n",
       "Shelton High School      83.725724\n",
       "Thomas High School       83.848930\n",
       "Wilson High School       83.989488\n",
       "Wright High School       83.955000\n",
       "dtype: float64"
      ]
     },
     "execution_count": 368,
     "metadata": {},
     "output_type": "execute_result"
    }
   ],
   "source": [
    "# Calculate the average test scores per school from school_data_complete\n",
    "per_school_math = school_data_complete.groupby([\"school_name\"])[\"math_score\"].sum() / per_school_counts\n",
    "per_school_reading = school_data_complete.groupby([\"school_name\"])[\"reading_score\"].sum() / per_school_counts"
   ]
  },
  {
   "cell_type": "code",
   "execution_count": 295,
   "metadata": {},
   "outputs": [],
   "source": [
    "# Calculate the number of students per school with math scores of 70 or higher from school_data_complete\n",
    "students_passing_math = school_data_complete[school_data_complete[\"math_score\"] >= 70]\n",
    "school_students_passing_math = students_passing_math.groupby([\"school_name\"]).size()"
   ]
  },
  {
   "cell_type": "code",
   "execution_count": 294,
   "metadata": {},
   "outputs": [],
   "source": [
    "# Calculate the number of students per school with reading scores of 70 or higher from school_data_complete\n",
    "students_passing_reading = school_data_complete[school_data_complete[\"reading_score\"] >=  70] \n",
    "school_students_passing_reading = students_passing_reading.groupby([\"school_name\"]).size()\n"
   ]
  },
  {
   "cell_type": "code",
   "execution_count": 278,
   "metadata": {},
   "outputs": [],
   "source": [
    "# Use the provided code to calculate the number of students per school that passed both math and reading with scores of 70 or higher\n",
    "students_passing_math_and_reading = school_data_complete[\n",
    "    (school_data_complete[\"reading_score\"] >= 70) & (school_data_complete[\"math_score\"] >= 70)\n",
    "]\n",
    "school_students_passing_math_and_reading = students_passing_math_and_reading.groupby([\"school_name\"]).size()"
   ]
  },
  {
   "cell_type": "code",
   "execution_count": 279,
   "metadata": {},
   "outputs": [],
   "source": [
    "# Use the provided code to calculate the passing rates\n",
    "per_school_passing_math = school_students_passing_math / per_school_counts * 100\n",
    "per_school_passing_reading = school_students_passing_reading / per_school_counts * 100\n",
    "overall_passing_rate = school_students_passing_math_and_reading / per_school_counts * 100"
   ]
  },
  {
   "cell_type": "code",
   "execution_count": 291,
   "metadata": {},
   "outputs": [
    {
     "data": {
      "text/plain": [
       "[                       count\n",
       " school_name                 \n",
       " Bailey High School      4976\n",
       " Johnson High School     4761\n",
       " Hernandez High School   4635\n",
       " Rodriguez High School   3999\n",
       " Figueroa High School    2949\n",
       " Huang High School       2917\n",
       " Ford High School        2739\n",
       " Wilson High School      2283\n",
       " Cabrera High School     1858\n",
       " Wright High School      1800\n",
       " Shelton High School     1761\n",
       " Thomas High School      1635\n",
       " Griffin High School     1468\n",
       " Pena High School         962\n",
       " Holden High School       427,\n",
       "                         budget\n",
       " school_name                   \n",
       " Huang High School      1910635\n",
       " Figueroa High School   1884411\n",
       " Shelton High School    1056600\n",
       " Hernandez High School  3022020\n",
       " Griffin High School     917500\n",
       " Wilson High School     1319574\n",
       " Cabrera High School    1081356\n",
       " Bailey High School     3124928\n",
       " Holden High School      248087\n",
       " Pena High School        585858\n",
       " Wright High School     1049400\n",
       " Rodriguez High School  2547363\n",
       " Johnson High School    3094650\n",
       " Ford High School       1763916\n",
       " Thomas High School     1043130,\n",
       "               School_name  Budget Per Capita\n",
       " 0       Huang High School              655.0\n",
       " 1    Figueroa High School              639.0\n",
       " 2     Shelton High School              600.0\n",
       " 3   Hernandez High School              652.0\n",
       " 4     Griffin High School              625.0\n",
       " 5      Wilson High School              578.0\n",
       " 6     Cabrera High School              582.0\n",
       " 7      Bailey High School              628.0\n",
       " 8      Holden High School              581.0\n",
       " 9        Pena High School              609.0\n",
       " 10     Wright High School              583.0\n",
       " 11  Rodriguez High School              637.0\n",
       " 12    Johnson High School              650.0\n",
       " 13       Ford High School              644.0\n",
       " 14     Thomas High School              638.0,\n",
       "               school_name  Average Math Score\n",
       " 0       Huang High School           76.629414\n",
       " 1    Figueroa High School           76.711767\n",
       " 2     Shelton High School           83.359455\n",
       " 3   Hernandez High School           77.289752\n",
       " 4     Griffin High School           83.351499\n",
       " 5      Wilson High School           83.274201\n",
       " 6     Cabrera High School           83.061895\n",
       " 7      Bailey High School           77.048432\n",
       " 8      Holden High School           83.803279\n",
       " 9        Pena High School           83.839917\n",
       " 10     Wright High School           83.682222\n",
       " 11  Rodriguez High School           76.842711\n",
       " 12    Johnson High School           77.072464\n",
       " 13       Ford High School           77.102592\n",
       " 14     Thomas High School           83.418349,\n",
       "              schoool_name  Average Reading Score\n",
       " 0       Huang High School              81.182722\n",
       " 1    Figueroa High School              81.158020\n",
       " 2     Shelton High School              83.725724\n",
       " 3   Hernandez High School              80.934412\n",
       " 4     Griffin High School              83.816757\n",
       " 5      Wilson High School              83.989488\n",
       " 6     Cabrera High School              83.975780\n",
       " 7      Bailey High School              81.033963\n",
       " 8      Holden High School              83.814988\n",
       " 9        Pena High School              84.044699\n",
       " 10     Wright High School              83.955000\n",
       " 11  Rodriguez High School              80.744686\n",
       " 12    Johnson High School              80.966394\n",
       " 13       Ford High School              80.746258\n",
       " 14     Thomas High School              83.848930,\n",
       " 74.9808526933878,\n",
       " 85.80546336482001,\n",
       "                        Bailey High School  Cabrera High School  \\\n",
       " school_name                                                      \n",
       " Bailey High School                    NaN                  NaN   \n",
       " Johnson High School                   NaN                  NaN   \n",
       " Hernandez High School                 NaN                  NaN   \n",
       " Rodriguez High School                 NaN                  NaN   \n",
       " Figueroa High School                  NaN                  NaN   \n",
       " Huang High School                     NaN                  NaN   \n",
       " Ford High School                      NaN                  NaN   \n",
       " Wilson High School                    NaN                  NaN   \n",
       " Cabrera High School                   NaN                  NaN   \n",
       " Wright High School                    NaN                  NaN   \n",
       " Shelton High School                   NaN                  NaN   \n",
       " Thomas High School                    NaN                  NaN   \n",
       " Griffin High School                   NaN                  NaN   \n",
       " Pena High School                      NaN                  NaN   \n",
       " Holden High School                    NaN                  NaN   \n",
       " \n",
       "                        Figueroa High School  Ford High School  \\\n",
       " school_name                                                     \n",
       " Bailey High School                      NaN               NaN   \n",
       " Johnson High School                     NaN               NaN   \n",
       " Hernandez High School                   NaN               NaN   \n",
       " Rodriguez High School                   NaN               NaN   \n",
       " Figueroa High School                    NaN               NaN   \n",
       " Huang High School                       NaN               NaN   \n",
       " Ford High School                        NaN               NaN   \n",
       " Wilson High School                      NaN               NaN   \n",
       " Cabrera High School                     NaN               NaN   \n",
       " Wright High School                      NaN               NaN   \n",
       " Shelton High School                     NaN               NaN   \n",
       " Thomas High School                      NaN               NaN   \n",
       " Griffin High School                     NaN               NaN   \n",
       " Pena High School                        NaN               NaN   \n",
       " Holden High School                      NaN               NaN   \n",
       " \n",
       "                        Griffin High School  Hernandez High School  \\\n",
       " school_name                                                         \n",
       " Bailey High School                     NaN                    NaN   \n",
       " Johnson High School                    NaN                    NaN   \n",
       " Hernandez High School                  NaN                    NaN   \n",
       " Rodriguez High School                  NaN                    NaN   \n",
       " Figueroa High School                   NaN                    NaN   \n",
       " Huang High School                      NaN                    NaN   \n",
       " Ford High School                       NaN                    NaN   \n",
       " Wilson High School                     NaN                    NaN   \n",
       " Cabrera High School                    NaN                    NaN   \n",
       " Wright High School                     NaN                    NaN   \n",
       " Shelton High School                    NaN                    NaN   \n",
       " Thomas High School                     NaN                    NaN   \n",
       " Griffin High School                    NaN                    NaN   \n",
       " Pena High School                       NaN                    NaN   \n",
       " Holden High School                     NaN                    NaN   \n",
       " \n",
       "                        Holden High School  Huang High School  \\\n",
       " school_name                                                    \n",
       " Bailey High School                    NaN                NaN   \n",
       " Johnson High School                   NaN                NaN   \n",
       " Hernandez High School                 NaN                NaN   \n",
       " Rodriguez High School                 NaN                NaN   \n",
       " Figueroa High School                  NaN                NaN   \n",
       " Huang High School                     NaN                NaN   \n",
       " Ford High School                      NaN                NaN   \n",
       " Wilson High School                    NaN                NaN   \n",
       " Cabrera High School                   NaN                NaN   \n",
       " Wright High School                    NaN                NaN   \n",
       " Shelton High School                   NaN                NaN   \n",
       " Thomas High School                    NaN                NaN   \n",
       " Griffin High School                   NaN                NaN   \n",
       " Pena High School                      NaN                NaN   \n",
       " Holden High School                    NaN                NaN   \n",
       " \n",
       "                        Johnson High School  Pena High School  \\\n",
       " school_name                                                    \n",
       " Bailey High School                     NaN               NaN   \n",
       " Johnson High School                    NaN               NaN   \n",
       " Hernandez High School                  NaN               NaN   \n",
       " Rodriguez High School                  NaN               NaN   \n",
       " Figueroa High School                   NaN               NaN   \n",
       " Huang High School                      NaN               NaN   \n",
       " Ford High School                       NaN               NaN   \n",
       " Wilson High School                     NaN               NaN   \n",
       " Cabrera High School                    NaN               NaN   \n",
       " Wright High School                     NaN               NaN   \n",
       " Shelton High School                    NaN               NaN   \n",
       " Thomas High School                     NaN               NaN   \n",
       " Griffin High School                    NaN               NaN   \n",
       " Pena High School                       NaN               NaN   \n",
       " Holden High School                     NaN               NaN   \n",
       " \n",
       "                        Rodriguez High School  Shelton High School  \\\n",
       " school_name                                                         \n",
       " Bailey High School                       NaN                  NaN   \n",
       " Johnson High School                      NaN                  NaN   \n",
       " Hernandez High School                    NaN                  NaN   \n",
       " Rodriguez High School                    NaN                  NaN   \n",
       " Figueroa High School                     NaN                  NaN   \n",
       " Huang High School                        NaN                  NaN   \n",
       " Ford High School                         NaN                  NaN   \n",
       " Wilson High School                       NaN                  NaN   \n",
       " Cabrera High School                      NaN                  NaN   \n",
       " Wright High School                       NaN                  NaN   \n",
       " Shelton High School                      NaN                  NaN   \n",
       " Thomas High School                       NaN                  NaN   \n",
       " Griffin High School                      NaN                  NaN   \n",
       " Pena High School                         NaN                  NaN   \n",
       " Holden High School                       NaN                  NaN   \n",
       " \n",
       "                        Thomas High School  Wilson High School  \\\n",
       " school_name                                                     \n",
       " Bailey High School                    NaN                 NaN   \n",
       " Johnson High School                   NaN                 NaN   \n",
       " Hernandez High School                 NaN                 NaN   \n",
       " Rodriguez High School                 NaN                 NaN   \n",
       " Figueroa High School                  NaN                 NaN   \n",
       " Huang High School                     NaN                 NaN   \n",
       " Ford High School                      NaN                 NaN   \n",
       " Wilson High School                    NaN                 NaN   \n",
       " Cabrera High School                   NaN                 NaN   \n",
       " Wright High School                    NaN                 NaN   \n",
       " Shelton High School                   NaN                 NaN   \n",
       " Thomas High School                    NaN                 NaN   \n",
       " Griffin High School                   NaN                 NaN   \n",
       " Pena High School                      NaN                 NaN   \n",
       " Holden High School                    NaN                 NaN   \n",
       " \n",
       "                        Wright High School  count  \n",
       " school_name                                       \n",
       " Bailey High School                    NaN    NaN  \n",
       " Johnson High School                   NaN    NaN  \n",
       " Hernandez High School                 NaN    NaN  \n",
       " Rodriguez High School                 NaN    NaN  \n",
       " Figueroa High School                  NaN    NaN  \n",
       " Huang High School                     NaN    NaN  \n",
       " Ford High School                      NaN    NaN  \n",
       " Wilson High School                    NaN    NaN  \n",
       " Cabrera High School                   NaN    NaN  \n",
       " Wright High School                    NaN    NaN  \n",
       " Shelton High School                   NaN    NaN  \n",
       " Thomas High School                    NaN    NaN  \n",
       " Griffin High School                   NaN    NaN  \n",
       " Pena High School                      NaN    NaN  \n",
       " Holden High School                    NaN    NaN  ]"
      ]
     },
     "execution_count": 291,
     "metadata": {},
     "output_type": "execute_result"
    }
   ],
   "source": [
    "# Create a DataFrame called `per_school_summary` with columns for the calculations above.\n",
    "list_of_headers = [school_types, per_school_counts, per_school_budget,\n",
    "                   per_school_capita, per_school_math, per_school_reading,\n",
    "                   passing_math_percentage, passing_reading_percentage, overall_passing_rate]\n",
    "\n",
    "per_school_summary = school_types.copy()\n",
    "\n",
    "for i in range(0,len(list_of_headers[1:])):\n",
    "    per_school_summary = pd.merge(per_school_summary, list_of_headers[i], \"left\", on=\"school_name\",sort='True')\n",
    "\n",
    "#per_school_summary = pd.merge(school_types, per_school_counts, \"left\", on=\"school_name\",sort='True')\n",
    "    \n",
    "# Formatting\n",
    "#per_school_summary[\"Total School Budget\"] = per_school_summary[\"Total School Budget\"].map(\"${:,.2f}\".format)\n",
    "#per_school_summary[\"Per Student Budget\"] = per_school_summary[\"Per Student Budget\"].map(\"${:,.2f}\".format)\n",
    "\n",
    "# Display the DataFrame\n",
    "per_school_summary\n",
    "\n"
   ]
  }
 ],
 "metadata": {
  "kernelspec": {
   "display_name": "inclassfeb2024",
   "language": "python",
   "name": "python3"
  },
  "language_info": {
   "codemirror_mode": {
    "name": "ipython",
    "version": 3
   },
   "file_extension": ".py",
   "mimetype": "text/x-python",
   "name": "python",
   "nbconvert_exporter": "python",
   "pygments_lexer": "ipython3",
   "version": "3.10.13"
  }
 },
 "nbformat": 4,
 "nbformat_minor": 2
}
